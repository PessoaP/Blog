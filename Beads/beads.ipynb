{
 "cells": [
  {
   "cell_type": "code",
   "execution_count": 2,
   "metadata": {},
   "outputs": [],
   "source": [
    "import numpy as np\n",
    "from scipy.special import loggamma\n",
    "normalize = lambda x: x/x.sum()\n",
    "logfactorial = lambda x: loggamma(x+1)\n",
    "\n",
    "\n",
    "class prob_vector:\n",
    "    def __init__(self,array=None,components=20,beads=10000):\n",
    "        if array is None:\n",
    "            self.counts = np.ones(components,dtype=int)*(beads//components)\n",
    "            self.counts[:beads%components]+=1\n",
    "        elif array.dtype == int:\n",
    "            self.counts = array\n",
    "        elif np.isclose(1.,np.sum(array)):\n",
    "            self.counts = np.floor(array*beads).astype(int)\n",
    "            self.counts[np.argsort(array)[:beads%self.counts.sum()]]+=1\n",
    "\n",
    "        self.prob = normalize(self.counts)\n",
    "\n",
    "    def proposal(self,rate=.01):\n",
    "        movables = np.random.binomial(self.counts,2*rate)\n",
    "        new_counts = self.counts - movables \n",
    "\n",
    "        mvleft = np.random.binomial(movables,.5)\n",
    "        mvright = movables - mvleft \n",
    "\n",
    "        new_counts[:-1] += mvleft[1:]\n",
    "        new_counts[0] += mvleft[0] #the ones selected to move left from 0 stay in place\n",
    "\n",
    "        new_counts[1:] += mvright[:-1]\n",
    "        new_counts[-1] += mvright[-1] #the ones selected to move left from -1 stay in place\n",
    "\n",
    "        ##print(movables.sum(),np.abs(self.counts-new_counts).sum())\n",
    "        return prob_vector(new_counts,new_counts.size,new_counts.sum())\n",
    "    \n",
    "    def multinomial_logprob(self,alpha):\n",
    "        beads = self.counts.sum()\n",
    "        p = self.alpha/self.alpha.sum()\n",
    "\n",
    "        log_prefactor = logfactorial(beads) - logfactorial(self.counts).sum()\n",
    "        return log_prefactor + (self.counts*np.log(p)).sum()\n",
    "        \n"
   ]
  },
  {
   "cell_type": "code",
   "execution_count": null,
   "metadata": {},
   "outputs": [],
   "source": []
  }
 ],
 "metadata": {
  "kernelspec": {
   "display_name": "base",
   "language": "python",
   "name": "python3"
  },
  "language_info": {
   "codemirror_mode": {
    "name": "ipython",
    "version": 3
   },
   "file_extension": ".py",
   "mimetype": "text/x-python",
   "name": "python",
   "nbconvert_exporter": "python",
   "pygments_lexer": "ipython3",
   "version": "3.9.19"
  },
  "orig_nbformat": 4
 },
 "nbformat": 4,
 "nbformat_minor": 2
}
